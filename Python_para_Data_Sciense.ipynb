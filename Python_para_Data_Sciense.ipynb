{
  "cells": [
    {
      "cell_type": "markdown",
      "metadata": {
        "id": "view-in-github",
        "colab_type": "text"
      },
      "source": [
        "<a href=\"https://colab.research.google.com/github/infinity-tech-dev/laura_karolis.github.io/blob/main/Python_para_Data_Sciense.ipynb\" target=\"_parent\"><img src=\"https://colab.research.google.com/assets/colab-badge.svg\" alt=\"Open In Colab\"/></a>"
      ]
    },
    {
      "cell_type": "code",
      "source": [
        "idade = 21\n",
        "\n",
        "def verifica_se_pode_dirigir(idade):\n",
        "  if idade >=18:\n",
        "    print('Tem permissão para dirigir')\n",
        "  else:\n",
        "      print('Não tem idade para dirigir')\n",
        "verifica_se_pode_dirigir(idade)"
      ],
      "metadata": {
        "colab": {
          "base_uri": "https://localhost:8080/"
        },
        "id": "zLKd1OLzLfGf",
        "outputId": "c1ab87da-7a3b-4d04-dc5b-aa76ee02041e"
      },
      "execution_count": 1,
      "outputs": [
        {
          "output_type": "stream",
          "name": "stdout",
          "text": [
            "Tem permissão para dirigir\n"
          ]
        }
      ]
    },
    {
      "cell_type": "code",
      "source": [
        "def verifica_se_pode_dirigir_sem_parametros():\n",
        "  idade = input(\"Qual sua idade ? \")\n",
        "  idade = int(idade)\n",
        "  if idade >= 18:\n",
        "     print('Tem permissão para dirigir')\n",
        "  else:\n",
        "    print('Não tem idade para dirigir')\n",
        "\n",
        "verifica_se_pode_dirigir_sem_parametros()"
      ],
      "metadata": {
        "colab": {
          "base_uri": "https://localhost:8080/"
        },
        "id": "Rp1IubmRLwus",
        "outputId": "ad7b9d2b-0b34-4dbf-91f3-66cc260a4bfe"
      },
      "execution_count": 2,
      "outputs": [
        {
          "output_type": "stream",
          "name": "stdout",
          "text": [
            "Qual sua idade ? 21\n",
            "Tem permissão para dirigir\n"
          ]
        }
      ]
    },
    {
      "cell_type": "code",
      "source": [
        "idades = [15,16,18,19,20,21]\n",
        "type(idades)"
      ],
      "metadata": {
        "colab": {
          "base_uri": "https://localhost:8080/"
        },
        "id": "BILNWQhpL1E1",
        "outputId": "a1c90cf4-177a-4334-c9b3-dc3c92e14e2d"
      },
      "execution_count": 3,
      "outputs": [
        {
          "output_type": "execute_result",
          "data": {
            "text/plain": [
              "list"
            ]
          },
          "metadata": {},
          "execution_count": 3
        }
      ]
    },
    {
      "cell_type": "code",
      "source": [
        "def verifica_se_pode_dirigir(idade):\n",
        "  if idade >=18:\n",
        "    print(f'{idade} anos de idade, TEM permissão para dirigir')\n",
        "  else:\n",
        "      print(f'{idade} anos de idade, NÃO TEM idade para dirigir')\n",
        "\n",
        "for idade in idades:\n",
        "  verifica_se_pode_dirigir(idade)"
      ],
      "metadata": {
        "colab": {
          "base_uri": "https://localhost:8080/"
        },
        "id": "GUcsi94kL5Wk",
        "outputId": "64d2e170-7708-4eb8-f7ca-8b819260c486"
      },
      "execution_count": 4,
      "outputs": [
        {
          "output_type": "stream",
          "name": "stdout",
          "text": [
            "15 anos de idade, NÃO TEM idade para dirigir\n",
            "16 anos de idade, NÃO TEM idade para dirigir\n",
            "18 anos de idade, TEM permissão para dirigir\n",
            "19 anos de idade, TEM permissão para dirigir\n",
            "20 anos de idade, TEM permissão para dirigir\n",
            "21 anos de idade, TEM permissão para dirigir\n"
          ]
        }
      ]
    },
    {
      "source": [
        "def verifica_se_pode_dirigir(idades):\n",
        "  for idade in idades: # Added a for loop to iterate through the list 'idades'\n",
        "    if idade >=18:\n",
        "      print(f'{idade} anos de idade, TEM permissão para dirigir')\n",
        "    else:\n",
        "      print(f'{idade} anos de idade, NÃO TEM idade para dirigir') # Fixed indentation for the else block\n",
        "\n",
        "verifica_se_pode_dirigir(idades)"
      ],
      "cell_type": "code",
      "metadata": {
        "colab": {
          "base_uri": "https://localhost:8080/"
        },
        "id": "ynwe_RF4MCka",
        "outputId": "14d26898-f13a-458b-9a32-1919321a05b8"
      },
      "execution_count": 7,
      "outputs": [
        {
          "output_type": "stream",
          "name": "stdout",
          "text": [
            "15 anos de idade, NÃO TEM idade para dirigir\n",
            "16 anos de idade, NÃO TEM idade para dirigir\n",
            "18 anos de idade, TEM permissão para dirigir\n",
            "19 anos de idade, TEM permissão para dirigir\n",
            "20 anos de idade, TEM permissão para dirigir\n",
            "21 anos de idade, TEM permissão para dirigir\n"
          ]
        }
      ]
    },
    {
      "cell_type": "code",
      "source": [],
      "metadata": {
        "id": "Ivztu8MfMLB1"
      },
      "execution_count": null,
      "outputs": []
    }
  ],
  "metadata": {
    "colab": {
      "name": "Olá, este é o Colaboratory",
      "toc_visible": true,
      "provenance": [],
      "include_colab_link": true
    },
    "kernelspec": {
      "display_name": "Python 3",
      "name": "python3"
    }
  },
  "nbformat": 4,
  "nbformat_minor": 0
}